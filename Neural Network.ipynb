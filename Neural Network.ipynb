{
 "cells": [
  {
   "cell_type": "markdown",
   "metadata": {},
   "source": [
    "# Задание 2.1 - Нейронные сети\n",
    "\n",
    "В этом задании вы реализуете и натренируете настоящую нейроную сеть своими руками!\n",
    "\n",
    "В некотором смысле это будет расширением прошлого задания - нам нужно просто составить несколько линейных классификаторов вместе!\n",
    "\n",
    "<img src=\"https://i.redd.it/n9fgba8b0qr01.png\" alt=\"Stack_more_layers\" width=\"400px\"/>"
   ]
  },
  {
   "cell_type": "code",
   "execution_count": 1,
   "metadata": {},
   "outputs": [],
   "source": [
    "import numpy as np\n",
    "import matplotlib.pyplot as plt\n",
    "\n",
    "%matplotlib inline\n",
    "\n",
    "%load_ext autoreload\n",
    "%autoreload 2"
   ]
  },
  {
   "cell_type": "code",
   "execution_count": 2,
   "metadata": {},
   "outputs": [],
   "source": [
    "from dataset import load_svhn, random_split_train_val\n",
    "from gradient_check import check_layer_gradient, check_layer_param_gradient, check_model_gradient\n",
    "from layers import FullyConnectedLayer, ReLULayer\n",
    "from model import TwoLayerNet\n",
    "from trainer import Trainer, Dataset\n",
    "from optim import SGD, MomentumSGD\n",
    "from metrics import multiclass_accuracy"
   ]
  },
  {
   "cell_type": "markdown",
   "metadata": {},
   "source": [
    "# Загружаем данные\n",
    "\n",
    "И разделяем их на training и validation."
   ]
  },
  {
   "cell_type": "code",
   "execution_count": 3,
   "metadata": {},
   "outputs": [],
   "source": [
    "def prepare_for_neural_network(train_X, test_X):\n",
    "    train_flat = train_X.reshape(train_X.shape[0], -1).astype(np.float) / 255.0\n",
    "    test_flat = test_X.reshape(test_X.shape[0], -1).astype(np.float) / 255.0\n",
    "    \n",
    "    # Subtract mean\n",
    "    mean_image = np.mean(train_flat, axis = 0)\n",
    "    train_flat -= mean_image\n",
    "    test_flat -= mean_image\n",
    "    \n",
    "    return train_flat, test_flat\n",
    "    \n",
    "train_X, train_y, test_X, test_y = load_svhn(\"data\", max_train=10000, max_test=1000)    \n",
    "train_X, test_X = prepare_for_neural_network(train_X, test_X)\n",
    "# Split train into train and val\n",
    "train_X, train_y, val_X, val_y = random_split_train_val(train_X, train_y, num_val = 1000)"
   ]
  },
  {
   "cell_type": "markdown",
   "metadata": {},
   "source": [
    "# Как всегда, начинаем с кирпичиков\n",
    "\n",
    "Мы будем реализовывать необходимые нам слои по очереди. Каждый слой должен реализовать:\n",
    "- прямой проход (forward pass), который генерирует выход слоя по входу и запоминает необходимые данные\n",
    "- обратный проход (backward pass), который получает градиент по выходу слоя и вычисляет градиент по входу и по параметрам\n",
    "\n",
    "Начнем с ReLU, у которого параметров нет."
   ]
  },
  {
   "cell_type": "code",
   "execution_count": 4,
   "metadata": {
    "scrolled": false
   },
   "outputs": [
    {
     "name": "stdout",
     "output_type": "stream",
     "text": [
      "Gradient check passed!\n"
     ]
    }
   ],
   "source": [
    "# TODO: Implement ReLULayer layer in layers.py\n",
    "# Note: you'll need to copy implementation of the gradient_check function from the previous assignment\n",
    "\n",
    "X = np.array([[1,-2,3],\n",
    "              [-1, 2, 0.1]\n",
    "              ])\n",
    "\n",
    "assert check_layer_gradient(ReLULayer(), X)"
   ]
  },
  {
   "cell_type": "markdown",
   "metadata": {},
   "source": [
    "А теперь реализуем полносвязный слой (fully connected layer), у которого будет два массива параметров: W (weights) и B (bias).\n",
    "\n",
    "Все параметры наши слои будут использовать для параметров специальный класс `Param`, в котором будут храниться значения параметров и градиенты этих параметров, вычисляемые во время обратного прохода.\n",
    "\n",
    "Это даст возможность аккумулировать (суммировать) градиенты из разных частей функции потерь, например, из cross-entropy loss и regularization loss."
   ]
  },
  {
   "cell_type": "code",
   "execution_count": 5,
   "metadata": {
    "scrolled": false
   },
   "outputs": [
    {
     "name": "stdout",
     "output_type": "stream",
     "text": [
      "Gradient check passed!\n",
      "Gradient check passed!\n",
      "Gradient check passed!\n"
     ]
    }
   ],
   "source": [
    "# TODO: Implement FullyConnected layer forward and backward methods\n",
    "assert check_layer_gradient(FullyConnectedLayer(3, 4), X)\n",
    "# TODO: Implement storing gradients for W and B\n",
    "assert check_layer_param_gradient(FullyConnectedLayer(3, 4), X, 'W')\n",
    "assert check_layer_param_gradient(FullyConnectedLayer(3, 4), X, 'B')"
   ]
  },
  {
   "cell_type": "markdown",
   "metadata": {},
   "source": [
    "## Создаем нейронную сеть\n",
    "\n",
    "Теперь мы реализуем простейшую нейронную сеть с двумя полносвязным слоями и нелинейностью ReLU. Реализуйте функцию `compute_loss_and_gradients`, она должна запустить прямой и обратный проход через оба слоя для вычисления градиентов.\n",
    "\n",
    "Не забудьте реализовать очистку градиентов в начале функции."
   ]
  },
  {
   "cell_type": "code",
   "execution_count": 107,
   "metadata": {
    "scrolled": true
   },
   "outputs": [
    {
     "name": "stdout",
     "output_type": "stream",
     "text": [
      "Checking gradient for W1\n",
      "Gradient check passed!\n",
      "Checking gradient for B1\n",
      "Gradient check passed!\n",
      "Checking gradient for W2\n",
      "Gradient check passed!\n",
      "Checking gradient for B2\n",
      "Gradient check passed!\n"
     ]
    },
    {
     "data": {
      "text/plain": [
       "True"
      ]
     },
     "execution_count": 107,
     "metadata": {},
     "output_type": "execute_result"
    }
   ],
   "source": [
    "# TODO: In model.py, implement compute_loss_and_gradients function\n",
    "model = TwoLayerNet(n_input = train_X.shape[1], n_output = 10, hidden_layer_size = 3, reg = 0)\n",
    "loss = model.compute_loss_and_gradients(train_X[:2], train_y[:2])\n",
    "# TODO Now implement backward pass and aggregate all of the params\n",
    "check_model_gradient(model, train_X[:2], train_y[:2])"
   ]
  },
  {
   "cell_type": "markdown",
   "metadata": {},
   "source": [
    "Теперь добавьте к модели регуляризацию - она должна прибавляться к loss и делать свой вклад в градиенты."
   ]
  },
  {
   "cell_type": "code",
   "execution_count": 108,
   "metadata": {
    "scrolled": false
   },
   "outputs": [
    {
     "name": "stdout",
     "output_type": "stream",
     "text": [
      "Checking gradient for W1\n",
      "Gradient check passed!\n",
      "Checking gradient for B1\n",
      "Gradient check passed!\n",
      "Checking gradient for W2\n",
      "Gradient check passed!\n",
      "Checking gradient for B2\n",
      "Gradient check passed!\n"
     ]
    },
    {
     "data": {
      "text/plain": [
       "True"
      ]
     },
     "execution_count": 108,
     "metadata": {},
     "output_type": "execute_result"
    }
   ],
   "source": [
    "# TODO Now implement l2 regularization in the forward and backward pass\n",
    "model_with_reg = TwoLayerNet(n_input = train_X.shape[1], n_output = 10, hidden_layer_size = 3, reg = 1e1)\n",
    "loss_with_reg = model_with_reg.compute_loss_and_gradients(train_X[:2], train_y[:2])\n",
    "assert loss_with_reg > loss and not np.isclose(loss_with_reg, loss), \\\n",
    "    \"Loss with regularization (%2.4f) should be higher than without it (%2.4f)!\" % (loss_with_reg, loss)\n",
    "\n",
    "check_model_gradient(model_with_reg, train_X[:2], train_y[:2])"
   ]
  },
  {
   "cell_type": "markdown",
   "metadata": {},
   "source": [
    "Также реализуем функцию предсказания (вычисления значения) модели на новых данных.\n",
    "\n",
    "Какое значение точности мы ожидаем увидеть до начала тренировки?"
   ]
  },
  {
   "cell_type": "code",
   "execution_count": 109,
   "metadata": {},
   "outputs": [
    {
     "data": {
      "text/plain": [
       "0.1"
      ]
     },
     "execution_count": 109,
     "metadata": {},
     "output_type": "execute_result"
    }
   ],
   "source": [
    "# Finally, implement predict function!\n",
    "\n",
    "# TODO: Implement predict function\n",
    "# What would be the value we expect?\n",
    "multiclass_accuracy(model_with_reg.predict(train_X[:30]), train_y[:30]) "
   ]
  },
  {
   "cell_type": "markdown",
   "metadata": {},
   "source": [
    "# Допишем код для процесса тренировки\n",
    "\n",
    "Если все реализовано корректно, значение функции ошибки должно уменьшаться с каждой эпохой, пусть и медленно. Не беспокойтесь пока про validation accuracy."
   ]
  },
  {
   "cell_type": "code",
   "execution_count": 131,
   "metadata": {
    "scrolled": false
   },
   "outputs": [
    {
     "name": "stdout",
     "output_type": "stream",
     "text": [
      "Loss: 2.287477, Train accuracy: 0.196667, val accuracy: 0.206000\n",
      "Loss: 2.278345, Train accuracy: 0.196667, val accuracy: 0.206000\n",
      "Loss: 2.304434, Train accuracy: 0.196667, val accuracy: 0.206000\n",
      "Loss: 2.291038, Train accuracy: 0.196667, val accuracy: 0.206000\n",
      "Loss: 2.279865, Train accuracy: 0.196667, val accuracy: 0.206000\n",
      "Loss: 2.291591, Train accuracy: 0.196667, val accuracy: 0.206000\n",
      "Loss: 2.274757, Train accuracy: 0.196667, val accuracy: 0.206000\n",
      "Loss: 2.296019, Train accuracy: 0.196667, val accuracy: 0.206000\n",
      "Loss: 2.290835, Train accuracy: 0.196667, val accuracy: 0.206000\n",
      "Loss: 2.309503, Train accuracy: 0.196667, val accuracy: 0.206000\n",
      "Loss: 2.296016, Train accuracy: 0.196667, val accuracy: 0.206000\n",
      "Loss: 2.289155, Train accuracy: 0.196667, val accuracy: 0.206000\n",
      "Loss: 2.287026, Train accuracy: 0.196667, val accuracy: 0.206000\n",
      "Loss: 2.296180, Train accuracy: 0.196667, val accuracy: 0.206000\n",
      "Loss: 2.298523, Train accuracy: 0.196667, val accuracy: 0.206000\n",
      "Loss: 2.283773, Train accuracy: 0.196667, val accuracy: 0.206000\n",
      "Loss: 2.299004, Train accuracy: 0.196667, val accuracy: 0.206000\n",
      "Loss: 2.297151, Train accuracy: 0.196667, val accuracy: 0.206000\n",
      "Loss: 2.301370, Train accuracy: 0.196667, val accuracy: 0.206000\n",
      "Loss: 2.300001, Train accuracy: 0.196667, val accuracy: 0.206000\n"
     ]
    }
   ],
   "source": [
    "model = TwoLayerNet(n_input = train_X.shape[1], n_output = 10, hidden_layer_size = 100, reg = 1e1)\n",
    "dataset = Dataset(train_X, train_y, val_X, val_y)\n",
    "trainer = Trainer(model, dataset, SGD(), learning_rate = 1e-2)\n",
    "\n",
    "# TODO Implement missing pieces in Trainer.fit function\n",
    "# You should expect loss to go down every epoch, even if it's slow\n",
    "loss_history, train_history, val_history = trainer.fit()"
   ]
  },
  {
   "cell_type": "code",
   "execution_count": 132,
   "metadata": {
    "scrolled": false
   },
   "outputs": [
    {
     "data": {
      "text/plain": [
       "[<matplotlib.lines.Line2D at 0x7ff7fa5115f8>]"
      ]
     },
     "execution_count": 132,
     "metadata": {},
     "output_type": "execute_result"
    },
    {
     "data": {
      "image/png": "[encoded data removed]",
      "text/plain": [
       "<Figure size 432x288 with 1 Axes>"
      ]
     },
     "metadata": {
      "needs_background": "light"
     },
     "output_type": "display_data"
    }
   ],
   "source": [
    "plt.plot(train_history)\n",
    "plt.plot(val_history)"
   ]
  },
  {
   "cell_type": "markdown",
   "metadata": {},
   "source": [
    "# Улучшаем процесс тренировки\n",
    "\n",
    "Мы реализуем несколько ключевых оптимизаций, необходимых для тренировки современных нейросетей."
   ]
  },
  {
   "cell_type": "markdown",
   "metadata": {},
   "source": [
    "## Уменьшение скорости обучения (learning rate decay)\n",
    "\n",
    "Одна из необходимых оптимизаций во время тренировки нейронных сетей - постепенное уменьшение скорости обучения по мере тренировки.\n",
    "\n",
    "Один из стандартных методов - уменьшение скорости обучения (learning rate) каждые N эпох на коэффициент d (часто называемый decay). Значения N и d, как всегда, являются гиперпараметрами и должны подбираться на основе эффективности на проверочных данных (validation data). \n",
    "\n",
    "В нашем случае N будет равным 1."
   ]
  },
  {
   "cell_type": "code",
   "execution_count": 133,
   "metadata": {
    "scrolled": true
   },
   "outputs": [
    {
     "name": "stdout",
     "output_type": "stream",
     "text": [
      "Loss: 2.249676, Train accuracy: 0.196667, val accuracy: 0.206000\n",
      "Loss: 2.172018, Train accuracy: 0.196667, val accuracy: 0.206000\n",
      "Loss: 2.393601, Train accuracy: 0.196667, val accuracy: 0.206000\n",
      "Loss: 2.065546, Train accuracy: 0.196667, val accuracy: 0.206000\n",
      "Loss: 2.184608, Train accuracy: 0.196667, val accuracy: 0.206000\n",
      "Loss: 2.328527, Train accuracy: 0.196667, val accuracy: 0.206000\n",
      "Loss: 2.376202, Train accuracy: 0.196667, val accuracy: 0.206000\n",
      "Loss: 2.186179, Train accuracy: 0.196667, val accuracy: 0.206000\n",
      "Loss: 2.152983, Train accuracy: 0.196667, val accuracy: 0.206000\n",
      "Loss: 2.240037, Train accuracy: 0.208556, val accuracy: 0.214000\n",
      "Loss: 2.054349, Train accuracy: 0.231222, val accuracy: 0.234000\n",
      "Loss: 2.211609, Train accuracy: 0.251000, val accuracy: 0.253000\n",
      "Loss: 2.061040, Train accuracy: 0.260556, val accuracy: 0.261000\n",
      "Loss: 1.752975, Train accuracy: 0.273222, val accuracy: 0.270000\n",
      "Loss: 2.011026, Train accuracy: 0.279111, val accuracy: 0.283000\n",
      "Loss: 2.116826, Train accuracy: 0.292889, val accuracy: 0.296000\n",
      "Loss: 1.852094, Train accuracy: 0.314556, val accuracy: 0.320000\n",
      "Loss: 1.899466, Train accuracy: 0.333111, val accuracy: 0.331000\n",
      "Loss: 1.883799, Train accuracy: 0.349222, val accuracy: 0.347000\n",
      "Loss: 1.873020, Train accuracy: 0.377222, val accuracy: 0.372000\n"
     ]
    }
   ],
   "source": [
    "# TODO Implement learning rate decay inside Trainer.fit method\n",
    "# Decay should happen once per epoch\n",
    "\n",
    "model = TwoLayerNet(n_input = train_X.shape[1], n_output = 10, hidden_layer_size = 100, reg = 1e-1)\n",
    "dataset = Dataset(train_X, train_y, val_X, val_y)\n",
    "trainer = Trainer(model, dataset, SGD(), learning_rate_decay=0.99)\n",
    "\n",
    "initial_learning_rate = trainer.learning_rate\n",
    "loss_history, train_history, val_history = trainer.fit()\n",
    "\n",
    "assert trainer.learning_rate < initial_learning_rate, \"Learning rate should've been reduced\"\n",
    "assert trainer.learning_rate > 0.5*initial_learning_rate, \"Learning rate shouldn'tve been reduced that much!\""
   ]
  },
  {
   "cell_type": "markdown",
   "metadata": {},
   "source": [
    "# Накопление импульса (Momentum SGD)\n",
    "\n",
    "Другой большой класс оптимизаций - использование более эффективных методов градиентного спуска. Мы реализуем один из них - накопление импульса (Momentum SGD).\n",
    "\n",
    "Этот метод хранит скорость движения, использует градиент для ее изменения на каждом шаге, и изменяет веса пропорционально значению скорости.\n",
    "(Физическая аналогия: Вместо скорости градиенты теперь будут задавать ускорение, но будет присутствовать сила трения.)\n",
    "\n",
    "```\n",
    "velocity = momentum * velocity - learning_rate * gradient \n",
    "w = w + velocity\n",
    "```\n",
    "\n",
    "`momentum` здесь коэффициент затухания, который тоже является гиперпараметром (к счастью, для него часто есть хорошее значение по умолчанию, типичный диапазон -- 0.8-0.99).\n",
    "\n",
    "Несколько полезных ссылок, где метод разбирается более подробно:  \n",
    "http://cs231n.github.io/neural-networks-3/#sgd  \n",
    "https://distill.pub/2017/momentum/"
   ]
  },
  {
   "cell_type": "code",
   "execution_count": 142,
   "metadata": {
    "scrolled": false
   },
   "outputs": [
    {
     "name": "stdout",
     "output_type": "stream",
     "text": [
      "Loss: 1.848220, Train accuracy: 0.196667, val accuracy: 0.206000\n",
      "Loss: 1.839634, Train accuracy: 0.379778, val accuracy: 0.386000\n",
      "Loss: 1.836308, Train accuracy: 0.486667, val accuracy: 0.480000\n",
      "Loss: 1.323253, Train accuracy: 0.539556, val accuracy: 0.540000\n",
      "Loss: 1.685546, Train accuracy: 0.590667, val accuracy: 0.600000\n",
      "Loss: 1.620820, Train accuracy: 0.633000, val accuracy: 0.631000\n",
      "Loss: 1.561064, Train accuracy: 0.641778, val accuracy: 0.633000\n",
      "Loss: 1.625252, Train accuracy: 0.650889, val accuracy: 0.662000\n",
      "Loss: 1.935754, Train accuracy: 0.658667, val accuracy: 0.647000\n",
      "Loss: 1.547062, Train accuracy: 0.678111, val accuracy: 0.675000\n",
      "Loss: 1.202394, Train accuracy: 0.665778, val accuracy: 0.657000\n",
      "Loss: 1.585595, Train accuracy: 0.682778, val accuracy: 0.650000\n",
      "Loss: 1.749854, Train accuracy: 0.696889, val accuracy: 0.687000\n",
      "Loss: 1.544860, Train accuracy: 0.700444, val accuracy: 0.679000\n",
      "Loss: 1.366094, Train accuracy: 0.696667, val accuracy: 0.683000\n",
      "Loss: 1.409810, Train accuracy: 0.686333, val accuracy: 0.664000\n",
      "Loss: 2.075150, Train accuracy: 0.683222, val accuracy: 0.667000\n",
      "Loss: 1.349267, Train accuracy: 0.674667, val accuracy: 0.663000\n",
      "Loss: 1.175001, Train accuracy: 0.704444, val accuracy: 0.673000\n",
      "Loss: 1.648631, Train accuracy: 0.707778, val accuracy: 0.686000\n"
     ]
    }
   ],
   "source": [
    "# TODO: Implement MomentumSGD.update function in optim.py\n",
    "\n",
    "model = TwoLayerNet(n_input = train_X.shape[1], n_output = 10, hidden_layer_size = 100, reg = 1e-1)\n",
    "dataset = Dataset(train_X, train_y, val_X, val_y)\n",
    "trainer = Trainer(model, dataset, MomentumSGD(), learning_rate=1e-2, learning_rate_decay=0.99)\n",
    "\n",
    "# You should see even better results than before!\n",
    "loss_history, train_history, val_history = trainer.fit()"
   ]
  },
  {
   "cell_type": "markdown",
   "metadata": {},
   "source": [
    "# Ну что, давайте уже тренировать сеть!"
   ]
  },
  {
   "cell_type": "markdown",
   "metadata": {},
   "source": [
    "## Последний тест - переобучимся (overfit) на маленьком наборе данных\n",
    "\n",
    "Хороший способ проверить, все ли реализовано корректно - переобучить сеть на маленьком наборе данных.  \n",
    "Наша модель обладает достаточной мощностью, чтобы приблизить маленький набор данных идеально, поэтому мы ожидаем, что на нем мы быстро дойдем до 100% точности на тренировочном наборе. \n",
    "\n",
    "Если этого не происходит, то где-то была допущена ошибка!"
   ]
  },
  {
   "cell_type": "code",
   "execution_count": 135,
   "metadata": {},
   "outputs": [
    {
     "name": "stdout",
     "output_type": "stream",
     "text": [
      "Loss: 2.330485, Train accuracy: 0.266667, val accuracy: 0.066667\n",
      "Loss: 2.305156, Train accuracy: 0.333333, val accuracy: 0.066667\n",
      "Loss: 2.290896, Train accuracy: 0.200000, val accuracy: 0.066667\n",
      "Loss: 2.218982, Train accuracy: 0.266667, val accuracy: 0.000000\n",
      "Loss: 2.232592, Train accuracy: 0.400000, val accuracy: 0.000000\n",
      "Loss: 2.455425, Train accuracy: 0.400000, val accuracy: 0.000000\n",
      "Loss: 2.357058, Train accuracy: 0.400000, val accuracy: 0.000000\n",
      "Loss: 2.175870, Train accuracy: 0.400000, val accuracy: 0.000000\n",
      "Loss: 1.347766, Train accuracy: 0.333333, val accuracy: 0.000000\n",
      "Loss: 2.530197, Train accuracy: 0.400000, val accuracy: 0.066667\n",
      "Loss: 1.616004, Train accuracy: 0.466667, val accuracy: 0.000000\n",
      "Loss: 1.953972, Train accuracy: 0.400000, val accuracy: 0.000000\n",
      "Loss: 1.821688, Train accuracy: 0.466667, val accuracy: 0.000000\n",
      "Loss: 1.274173, Train accuracy: 0.466667, val accuracy: 0.000000\n",
      "Loss: 2.116733, Train accuracy: 0.533333, val accuracy: 0.000000\n",
      "Loss: 1.528619, Train accuracy: 0.466667, val accuracy: 0.000000\n",
      "Loss: 1.255940, Train accuracy: 0.533333, val accuracy: 0.066667\n",
      "Loss: 1.211496, Train accuracy: 0.666667, val accuracy: 0.000000\n",
      "Loss: 2.125309, Train accuracy: 0.733333, val accuracy: 0.066667\n",
      "Loss: 1.752292, Train accuracy: 0.666667, val accuracy: 0.066667\n",
      "Loss: 1.532168, Train accuracy: 0.733333, val accuracy: 0.133333\n",
      "Loss: 1.343800, Train accuracy: 0.800000, val accuracy: 0.133333\n",
      "Loss: 1.604978, Train accuracy: 0.733333, val accuracy: 0.000000\n",
      "Loss: 0.449016, Train accuracy: 0.800000, val accuracy: 0.066667\n",
      "Loss: 1.022294, Train accuracy: 0.800000, val accuracy: 0.066667\n",
      "Loss: 1.069527, Train accuracy: 0.800000, val accuracy: 0.066667\n",
      "Loss: 1.793240, Train accuracy: 0.800000, val accuracy: 0.066667\n",
      "Loss: 1.253043, Train accuracy: 0.800000, val accuracy: 0.066667\n",
      "Loss: 0.545801, Train accuracy: 0.800000, val accuracy: 0.066667\n",
      "Loss: 1.162101, Train accuracy: 0.800000, val accuracy: 0.066667\n",
      "Loss: 0.951166, Train accuracy: 0.800000, val accuracy: 0.066667\n",
      "Loss: 0.476330, Train accuracy: 0.800000, val accuracy: 0.066667\n",
      "Loss: 1.390052, Train accuracy: 0.800000, val accuracy: 0.066667\n",
      "Loss: 1.926812, Train accuracy: 0.866667, val accuracy: 0.066667\n",
      "Loss: 0.926397, Train accuracy: 0.866667, val accuracy: 0.066667\n",
      "Loss: 0.522266, Train accuracy: 0.933333, val accuracy: 0.066667\n",
      "Loss: 0.790132, Train accuracy: 1.000000, val accuracy: 0.066667\n",
      "Loss: 0.476385, Train accuracy: 1.000000, val accuracy: 0.066667\n",
      "Loss: 0.418847, Train accuracy: 1.000000, val accuracy: 0.066667\n",
      "Loss: 0.492228, Train accuracy: 1.000000, val accuracy: 0.066667\n",
      "Loss: 0.902852, Train accuracy: 1.000000, val accuracy: 0.066667\n",
      "Loss: 0.694214, Train accuracy: 1.000000, val accuracy: 0.066667\n",
      "Loss: 0.772398, Train accuracy: 1.000000, val accuracy: 0.000000\n",
      "Loss: 0.634660, Train accuracy: 1.000000, val accuracy: 0.000000\n",
      "Loss: 0.873764, Train accuracy: 1.000000, val accuracy: 0.000000\n",
      "Loss: 0.627933, Train accuracy: 1.000000, val accuracy: 0.000000\n",
      "Loss: 0.761974, Train accuracy: 1.000000, val accuracy: 0.000000\n",
      "Loss: 0.664166, Train accuracy: 1.000000, val accuracy: 0.000000\n",
      "Loss: 0.630728, Train accuracy: 1.000000, val accuracy: 0.000000\n",
      "Loss: 0.619058, Train accuracy: 1.000000, val accuracy: 0.000000\n",
      "Loss: 0.646790, Train accuracy: 1.000000, val accuracy: 0.000000\n",
      "Loss: 0.607321, Train accuracy: 1.000000, val accuracy: 0.000000\n",
      "Loss: 0.689314, Train accuracy: 1.000000, val accuracy: 0.000000\n",
      "Loss: 0.532595, Train accuracy: 1.000000, val accuracy: 0.000000\n",
      "Loss: 0.611692, Train accuracy: 1.000000, val accuracy: 0.000000\n",
      "Loss: 0.573860, Train accuracy: 1.000000, val accuracy: 0.000000\n",
      "Loss: 0.586106, Train accuracy: 1.000000, val accuracy: 0.000000\n",
      "Loss: 0.613858, Train accuracy: 1.000000, val accuracy: 0.000000\n",
      "Loss: 0.540422, Train accuracy: 1.000000, val accuracy: 0.000000\n",
      "Loss: 0.570415, Train accuracy: 1.000000, val accuracy: 0.000000\n",
      "Loss: 0.566029, Train accuracy: 1.000000, val accuracy: 0.000000\n",
      "Loss: 0.505976, Train accuracy: 1.000000, val accuracy: 0.000000\n",
      "Loss: 0.514699, Train accuracy: 1.000000, val accuracy: 0.000000\n",
      "Loss: 0.547491, Train accuracy: 1.000000, val accuracy: 0.000000\n",
      "Loss: 0.579262, Train accuracy: 1.000000, val accuracy: 0.000000\n",
      "Loss: 0.667853, Train accuracy: 1.000000, val accuracy: 0.000000\n",
      "Loss: 0.592241, Train accuracy: 1.000000, val accuracy: 0.000000\n",
      "Loss: 0.705427, Train accuracy: 1.000000, val accuracy: 0.000000\n",
      "Loss: 0.567144, Train accuracy: 1.000000, val accuracy: 0.000000\n",
      "Loss: 0.662589, Train accuracy: 1.000000, val accuracy: 0.000000\n",
      "Loss: 0.615134, Train accuracy: 1.000000, val accuracy: 0.000000\n",
      "Loss: 0.528234, Train accuracy: 1.000000, val accuracy: 0.000000\n",
      "Loss: 0.611808, Train accuracy: 1.000000, val accuracy: 0.000000\n",
      "Loss: 0.670565, Train accuracy: 1.000000, val accuracy: 0.000000\n",
      "Loss: 0.575584, Train accuracy: 1.000000, val accuracy: 0.000000\n",
      "Loss: 0.539156, Train accuracy: 1.000000, val accuracy: 0.000000\n",
      "Loss: 0.542321, Train accuracy: 1.000000, val accuracy: 0.000000\n",
      "Loss: 0.587080, Train accuracy: 1.000000, val accuracy: 0.000000\n",
      "Loss: 0.607238, Train accuracy: 1.000000, val accuracy: 0.000000\n",
      "Loss: 0.601760, Train accuracy: 1.000000, val accuracy: 0.000000\n",
      "Loss: 0.562863, Train accuracy: 1.000000, val accuracy: 0.000000\n",
      "Loss: 0.530874, Train accuracy: 1.000000, val accuracy: 0.000000\n",
      "Loss: 0.567698, Train accuracy: 1.000000, val accuracy: 0.000000\n",
      "Loss: 0.572166, Train accuracy: 1.000000, val accuracy: 0.000000\n",
      "Loss: 0.590667, Train accuracy: 1.000000, val accuracy: 0.000000\n",
      "Loss: 0.615246, Train accuracy: 1.000000, val accuracy: 0.000000\n",
      "Loss: 0.558291, Train accuracy: 1.000000, val accuracy: 0.000000\n",
      "Loss: 0.543506, Train accuracy: 1.000000, val accuracy: 0.000000\n",
      "Loss: 0.556242, Train accuracy: 1.000000, val accuracy: 0.000000\n",
      "Loss: 0.625347, Train accuracy: 1.000000, val accuracy: 0.000000\n",
      "Loss: 0.610677, Train accuracy: 1.000000, val accuracy: 0.000000\n",
      "Loss: 0.571067, Train accuracy: 1.000000, val accuracy: 0.000000\n",
      "Loss: 0.566520, Train accuracy: 1.000000, val accuracy: 0.000000\n",
      "Loss: 0.552887, Train accuracy: 1.000000, val accuracy: 0.000000\n",
      "Loss: 0.629123, Train accuracy: 1.000000, val accuracy: 0.000000\n",
      "Loss: 0.572221, Train accuracy: 1.000000, val accuracy: 0.000000\n",
      "Loss: 0.524623, Train accuracy: 1.000000, val accuracy: 0.000000\n",
      "Loss: 0.656897, Train accuracy: 1.000000, val accuracy: 0.000000\n",
      "Loss: 0.556127, Train accuracy: 1.000000, val accuracy: 0.000000\n",
      "Loss: 0.541019, Train accuracy: 1.000000, val accuracy: 0.000000\n",
      "Loss: 0.599494, Train accuracy: 1.000000, val accuracy: 0.000000\n",
      "Loss: 0.545177, Train accuracy: 1.000000, val accuracy: 0.000000\n",
      "Loss: 0.547771, Train accuracy: 1.000000, val accuracy: 0.000000\n",
      "Loss: 0.545046, Train accuracy: 1.000000, val accuracy: 0.000000\n",
      "Loss: 0.563293, Train accuracy: 1.000000, val accuracy: 0.000000\n",
      "Loss: 0.585778, Train accuracy: 1.000000, val accuracy: 0.000000\n",
      "Loss: 0.583746, Train accuracy: 1.000000, val accuracy: 0.000000\n",
      "Loss: 0.589007, Train accuracy: 1.000000, val accuracy: 0.000000\n",
      "Loss: 0.582095, Train accuracy: 1.000000, val accuracy: 0.000000\n",
      "Loss: 0.630284, Train accuracy: 1.000000, val accuracy: 0.000000\n",
      "Loss: 0.495579, Train accuracy: 1.000000, val accuracy: 0.000000\n",
      "Loss: 0.609229, Train accuracy: 1.000000, val accuracy: 0.000000\n",
      "Loss: 0.475090, Train accuracy: 1.000000, val accuracy: 0.000000\n",
      "Loss: 0.573180, Train accuracy: 1.000000, val accuracy: 0.000000\n",
      "Loss: 0.560663, Train accuracy: 1.000000, val accuracy: 0.000000\n",
      "Loss: 0.611668, Train accuracy: 1.000000, val accuracy: 0.000000\n",
      "Loss: 0.641266, Train accuracy: 1.000000, val accuracy: 0.000000\n",
      "Loss: 0.519767, Train accuracy: 1.000000, val accuracy: 0.000000\n",
      "Loss: 0.635673, Train accuracy: 1.000000, val accuracy: 0.000000\n",
      "Loss: 0.553689, Train accuracy: 1.000000, val accuracy: 0.000000\n",
      "Loss: 0.560410, Train accuracy: 1.000000, val accuracy: 0.000000\n",
      "Loss: 0.575530, Train accuracy: 1.000000, val accuracy: 0.000000\n",
      "Loss: 0.586129, Train accuracy: 1.000000, val accuracy: 0.000000\n",
      "Loss: 0.639372, Train accuracy: 1.000000, val accuracy: 0.000000\n",
      "Loss: 0.572230, Train accuracy: 1.000000, val accuracy: 0.000000\n",
      "Loss: 0.588273, Train accuracy: 1.000000, val accuracy: 0.000000\n",
      "Loss: 0.538285, Train accuracy: 1.000000, val accuracy: 0.000000\n",
      "Loss: 0.582473, Train accuracy: 1.000000, val accuracy: 0.000000\n",
      "Loss: 0.675346, Train accuracy: 1.000000, val accuracy: 0.000000\n"
     ]
    },
    {
     "name": "stdout",
     "output_type": "stream",
     "text": [
      "Loss: 0.534969, Train accuracy: 1.000000, val accuracy: 0.000000\n",
      "Loss: 0.551137, Train accuracy: 1.000000, val accuracy: 0.000000\n",
      "Loss: 0.582798, Train accuracy: 1.000000, val accuracy: 0.000000\n",
      "Loss: 0.605411, Train accuracy: 1.000000, val accuracy: 0.000000\n",
      "Loss: 0.596989, Train accuracy: 1.000000, val accuracy: 0.000000\n",
      "Loss: 0.581634, Train accuracy: 1.000000, val accuracy: 0.000000\n",
      "Loss: 0.565011, Train accuracy: 1.000000, val accuracy: 0.000000\n",
      "Loss: 0.510105, Train accuracy: 1.000000, val accuracy: 0.000000\n",
      "Loss: 0.575138, Train accuracy: 1.000000, val accuracy: 0.000000\n",
      "Loss: 0.662006, Train accuracy: 1.000000, val accuracy: 0.000000\n",
      "Loss: 0.564540, Train accuracy: 1.000000, val accuracy: 0.000000\n",
      "Loss: 0.567177, Train accuracy: 1.000000, val accuracy: 0.000000\n",
      "Loss: 0.600995, Train accuracy: 1.000000, val accuracy: 0.000000\n",
      "Loss: 0.520939, Train accuracy: 1.000000, val accuracy: 0.000000\n",
      "Loss: 0.595737, Train accuracy: 1.000000, val accuracy: 0.000000\n",
      "Loss: 0.611112, Train accuracy: 1.000000, val accuracy: 0.000000\n",
      "Loss: 0.542157, Train accuracy: 1.000000, val accuracy: 0.000000\n",
      "Loss: 0.550310, Train accuracy: 1.000000, val accuracy: 0.000000\n",
      "Loss: 0.575734, Train accuracy: 1.000000, val accuracy: 0.000000\n",
      "Loss: 0.577011, Train accuracy: 1.000000, val accuracy: 0.000000\n",
      "Loss: 0.580427, Train accuracy: 1.000000, val accuracy: 0.000000\n"
     ]
    }
   ],
   "source": [
    "data_size = 15\n",
    "model = TwoLayerNet(n_input = train_X.shape[1], n_output = 10, hidden_layer_size = 100, reg = 1e-1)\n",
    "dataset = Dataset(train_X[:data_size], train_y[:data_size], val_X[:data_size], val_y[:data_size])\n",
    "trainer = Trainer(model, dataset, SGD(), learning_rate=1e-1, num_epochs=150, batch_size=3)\n",
    "\n",
    "# You should expect this to reach 1.0 training accuracy \n",
    "loss_history, train_history, val_history = trainer.fit()"
   ]
  },
  {
   "cell_type": "markdown",
   "metadata": {},
   "source": [
    "Теперь найдем гипепараметры, для которых этот процесс сходится быстрее.\n",
    "Если все реализовано корректно, то существуют параметры, при которых процесс сходится в **20** эпох или еще быстрее.\n",
    "Найдите их!"
   ]
  },
  {
   "cell_type": "code",
   "execution_count": 130,
   "metadata": {
    "scrolled": true
   },
   "outputs": [
    {
     "name": "stdout",
     "output_type": "stream",
     "text": [
      "Loss: 2.304029, Train accuracy: 0.200000, val accuracy: 0.066667\n",
      "Loss: 2.382263, Train accuracy: 0.266667, val accuracy: 0.000000\n",
      "Loss: 2.221860, Train accuracy: 0.266667, val accuracy: 0.000000\n",
      "Loss: 2.797145, Train accuracy: 0.466667, val accuracy: 0.066667\n",
      "Loss: 1.833642, Train accuracy: 0.333333, val accuracy: 0.000000\n",
      "Loss: 1.296650, Train accuracy: 0.400000, val accuracy: 0.000000\n",
      "Loss: 2.123217, Train accuracy: 0.333333, val accuracy: 0.066667\n",
      "Loss: 2.292744, Train accuracy: 0.400000, val accuracy: 0.000000\n",
      "Loss: 1.536164, Train accuracy: 0.600000, val accuracy: 0.066667\n",
      "Loss: 1.005458, Train accuracy: 0.400000, val accuracy: 0.000000\n",
      "Loss: 2.047737, Train accuracy: 0.400000, val accuracy: 0.000000\n",
      "Loss: 0.926840, Train accuracy: 0.533333, val accuracy: 0.000000\n",
      "Loss: 1.867340, Train accuracy: 0.733333, val accuracy: 0.000000\n",
      "Loss: 1.890617, Train accuracy: 0.800000, val accuracy: 0.000000\n",
      "Loss: 1.968017, Train accuracy: 0.666667, val accuracy: 0.000000\n",
      "Loss: 2.265842, Train accuracy: 0.800000, val accuracy: 0.133333\n",
      "Loss: 0.684985, Train accuracy: 0.866667, val accuracy: 0.066667\n",
      "Loss: 1.196859, Train accuracy: 0.866667, val accuracy: 0.066667\n",
      "Loss: 0.603870, Train accuracy: 0.933333, val accuracy: 0.066667\n",
      "Loss: 0.819279, Train accuracy: 1.000000, val accuracy: 0.133333\n"
     ]
    }
   ],
   "source": [
    "# Now, tweak some hyper parameters and make it train to 1.0 accuracy in 20 epochs or less\n",
    "\n",
    "model = TwoLayerNet(n_input = train_X.shape[1], n_output = 10, hidden_layer_size = 100, reg = 1e-1)\n",
    "dataset = Dataset(train_X[:data_size], train_y[:data_size], val_X[:data_size], val_y[:data_size])\n",
    "# TODO: Change any hyperparamers or optimizators to reach training accuracy in 20 epochs\n",
    "trainer = Trainer(model, dataset, SGD(), learning_rate=2e-1, num_epochs=20, batch_size=3)\n",
    "\n",
    "loss_history, train_history, val_history = trainer.fit()"
   ]
  },
  {
   "cell_type": "markdown",
   "metadata": {},
   "source": [
    "# Итак, основное мероприятие!\n",
    "\n",
    "Натренируйте лучшую нейросеть! Можно добавлять и изменять параметры, менять количество нейронов в слоях сети и как угодно экспериментировать. \n",
    "\n",
    "Добейтесь точности лучше **60%** на validation set."
   ]
  },
  {
   "cell_type": "code",
   "execution_count": 138,
   "metadata": {
    "scrolled": true
   },
   "outputs": [
    {
     "name": "stdout",
     "output_type": "stream",
     "text": [
      "Loss: 2.279923, Train accuracy: 0.196667, val accuracy: 0.206000\n",
      "Loss: 2.237889, Train accuracy: 0.196667, val accuracy: 0.206000\n",
      "Loss: 2.257575, Train accuracy: 0.196667, val accuracy: 0.206000\n",
      "Loss: 2.287211, Train accuracy: 0.196667, val accuracy: 0.206000\n",
      "Loss: 2.293256, Train accuracy: 0.196667, val accuracy: 0.206000\n",
      "Loss: 2.307740, Train accuracy: 0.196667, val accuracy: 0.206000\n",
      "Loss: 2.275753, Train accuracy: 0.196667, val accuracy: 0.206000\n",
      "Loss: 2.245575, Train accuracy: 0.196667, val accuracy: 0.206000\n",
      "Loss: 2.204830, Train accuracy: 0.196667, val accuracy: 0.206000\n",
      "Loss: 2.216866, Train accuracy: 0.196667, val accuracy: 0.206000\n",
      "Loss: 2.195558, Train accuracy: 0.196667, val accuracy: 0.206000\n",
      "Loss: 2.218793, Train accuracy: 0.196667, val accuracy: 0.206000\n",
      "Loss: 2.332608, Train accuracy: 0.196667, val accuracy: 0.206000\n",
      "Loss: 2.201948, Train accuracy: 0.196667, val accuracy: 0.206000\n",
      "Loss: 2.071311, Train accuracy: 0.196667, val accuracy: 0.206000\n",
      "Loss: 2.251302, Train accuracy: 0.196667, val accuracy: 0.206000\n",
      "Loss: 2.299578, Train accuracy: 0.196667, val accuracy: 0.206000\n",
      "Loss: 2.207358, Train accuracy: 0.196667, val accuracy: 0.206000\n",
      "Loss: 2.257298, Train accuracy: 0.196667, val accuracy: 0.206000\n",
      "Loss: 2.273642, Train accuracy: 0.196667, val accuracy: 0.206000\n",
      "Loss: 2.197121, Train accuracy: 0.196667, val accuracy: 0.206000\n",
      "Loss: 2.145319, Train accuracy: 0.196667, val accuracy: 0.206000\n",
      "Loss: 2.184244, Train accuracy: 0.196667, val accuracy: 0.206000\n",
      "Loss: 2.267823, Train accuracy: 0.196667, val accuracy: 0.206000\n",
      "Loss: 2.136418, Train accuracy: 0.196667, val accuracy: 0.206000\n",
      "Loss: 2.152879, Train accuracy: 0.196667, val accuracy: 0.206000\n",
      "Loss: 2.252110, Train accuracy: 0.200556, val accuracy: 0.209000\n",
      "Loss: 2.207174, Train accuracy: 0.207222, val accuracy: 0.213000\n",
      "Loss: 2.256488, Train accuracy: 0.217556, val accuracy: 0.224000\n",
      "Loss: 2.169142, Train accuracy: 0.228333, val accuracy: 0.231000\n",
      "Loss: 2.024085, Train accuracy: 0.236667, val accuracy: 0.248000\n",
      "Loss: 2.099476, Train accuracy: 0.244556, val accuracy: 0.250000\n",
      "Loss: 2.128964, Train accuracy: 0.249889, val accuracy: 0.247000\n",
      "Loss: 2.102638, Train accuracy: 0.257111, val accuracy: 0.254000\n",
      "Loss: 2.156080, Train accuracy: 0.261444, val accuracy: 0.262000\n",
      "Loss: 1.955365, Train accuracy: 0.268556, val accuracy: 0.267000\n",
      "Loss: 2.069692, Train accuracy: 0.271778, val accuracy: 0.271000\n",
      "Loss: 1.936895, Train accuracy: 0.277111, val accuracy: 0.278000\n",
      "Loss: 2.082891, Train accuracy: 0.284333, val accuracy: 0.286000\n",
      "Loss: 1.987546, Train accuracy: 0.289667, val accuracy: 0.292000\n",
      "Loss: 2.152852, Train accuracy: 0.295333, val accuracy: 0.300000\n",
      "Loss: 1.854205, Train accuracy: 0.303000, val accuracy: 0.308000\n",
      "Loss: 1.968895, Train accuracy: 0.308889, val accuracy: 0.318000\n",
      "Loss: 1.946218, Train accuracy: 0.317333, val accuracy: 0.325000\n",
      "Loss: 1.810207, Train accuracy: 0.324222, val accuracy: 0.326000\n",
      "Loss: 1.982436, Train accuracy: 0.331778, val accuracy: 0.332000\n",
      "Loss: 2.004635, Train accuracy: 0.343222, val accuracy: 0.344000\n",
      "Loss: 1.829896, Train accuracy: 0.354444, val accuracy: 0.351000\n",
      "Loss: 1.879626, Train accuracy: 0.362889, val accuracy: 0.360000\n",
      "Loss: 1.652269, Train accuracy: 0.374444, val accuracy: 0.376000\n",
      "Loss: 1.756866, Train accuracy: 0.385778, val accuracy: 0.377000\n",
      "Loss: 1.695151, Train accuracy: 0.391556, val accuracy: 0.384000\n",
      "Loss: 1.649250, Train accuracy: 0.403444, val accuracy: 0.389000\n",
      "Loss: 1.771052, Train accuracy: 0.413889, val accuracy: 0.400000\n",
      "Loss: 1.956576, Train accuracy: 0.419889, val accuracy: 0.411000\n",
      "Loss: 1.534421, Train accuracy: 0.430222, val accuracy: 0.421000\n",
      "Loss: 1.671424, Train accuracy: 0.437778, val accuracy: 0.433000\n",
      "Loss: 1.636075, Train accuracy: 0.444444, val accuracy: 0.439000\n",
      "Loss: 1.618842, Train accuracy: 0.453000, val accuracy: 0.439000\n",
      "Loss: 1.453775, Train accuracy: 0.459889, val accuracy: 0.455000\n",
      "Loss: 1.369287, Train accuracy: 0.467222, val accuracy: 0.460000\n",
      "Loss: 1.533228, Train accuracy: 0.477667, val accuracy: 0.478000\n",
      "Loss: 1.562624, Train accuracy: 0.485222, val accuracy: 0.476000\n",
      "Loss: 1.738768, Train accuracy: 0.488111, val accuracy: 0.490000\n",
      "Loss: 1.700787, Train accuracy: 0.500778, val accuracy: 0.495000\n",
      "Loss: 1.621379, Train accuracy: 0.506889, val accuracy: 0.499000\n",
      "Loss: 1.431140, Train accuracy: 0.516222, val accuracy: 0.515000\n",
      "Loss: 1.453731, Train accuracy: 0.519000, val accuracy: 0.513000\n",
      "Loss: 1.471660, Train accuracy: 0.527444, val accuracy: 0.524000\n",
      "Loss: 1.533912, Train accuracy: 0.533111, val accuracy: 0.527000\n",
      "Loss: 1.532234, Train accuracy: 0.541000, val accuracy: 0.535000\n",
      "Loss: 1.252723, Train accuracy: 0.549111, val accuracy: 0.541000\n",
      "Loss: 1.380826, Train accuracy: 0.550444, val accuracy: 0.550000\n",
      "Loss: 1.409618, Train accuracy: 0.556889, val accuracy: 0.558000\n",
      "Loss: 1.152790, Train accuracy: 0.564333, val accuracy: 0.565000\n",
      "Loss: 1.392050, Train accuracy: 0.571333, val accuracy: 0.566000\n",
      "Loss: 1.491795, Train accuracy: 0.575556, val accuracy: 0.567000\n",
      "Loss: 1.269115, Train accuracy: 0.579111, val accuracy: 0.568000\n",
      "Loss: 1.795290, Train accuracy: 0.583778, val accuracy: 0.572000\n",
      "Loss: 1.305446, Train accuracy: 0.590889, val accuracy: 0.579000\n",
      "Loss: 1.493918, Train accuracy: 0.595111, val accuracy: 0.585000\n",
      "Loss: 1.450452, Train accuracy: 0.600556, val accuracy: 0.582000\n",
      "Loss: 1.523213, Train accuracy: 0.601556, val accuracy: 0.588000\n",
      "Loss: 1.361186, Train accuracy: 0.607889, val accuracy: 0.598000\n",
      "Loss: 1.472070, Train accuracy: 0.612667, val accuracy: 0.601000\n",
      "Loss: 1.497603, Train accuracy: 0.615667, val accuracy: 0.592000\n",
      "Loss: 1.282850, Train accuracy: 0.621222, val accuracy: 0.599000\n",
      "Loss: 1.441691, Train accuracy: 0.625111, val accuracy: 0.603000\n",
      "Loss: 1.123158, Train accuracy: 0.626667, val accuracy: 0.609000\n",
      "Loss: 1.187082, Train accuracy: 0.630000, val accuracy: 0.612000\n",
      "Loss: 1.015523, Train accuracy: 0.633333, val accuracy: 0.615000\n",
      "Loss: 1.095146, Train accuracy: 0.635889, val accuracy: 0.618000\n",
      "Loss: 1.219159, Train accuracy: 0.639111, val accuracy: 0.616000\n",
      "Loss: 1.557610, Train accuracy: 0.643222, val accuracy: 0.624000\n",
      "Loss: 1.078632, Train accuracy: 0.645556, val accuracy: 0.629000\n",
      "Loss: 1.075698, Train accuracy: 0.651333, val accuracy: 0.629000\n",
      "Loss: 1.222750, Train accuracy: 0.653667, val accuracy: 0.631000\n",
      "Loss: 1.226451, Train accuracy: 0.657667, val accuracy: 0.637000\n",
      "Loss: 1.213792, Train accuracy: 0.660778, val accuracy: 0.645000\n",
      "Loss: 1.003072, Train accuracy: 0.662000, val accuracy: 0.644000\n",
      "Loss: 1.127230, Train accuracy: 0.666111, val accuracy: 0.649000\n",
      "Loss: 0.906665, Train accuracy: 0.668111, val accuracy: 0.648000\n",
      "Loss: 0.979775, Train accuracy: 0.670111, val accuracy: 0.652000\n",
      "Loss: 1.173703, Train accuracy: 0.674667, val accuracy: 0.649000\n",
      "Loss: 1.162633, Train accuracy: 0.674444, val accuracy: 0.651000\n",
      "Loss: 0.947422, Train accuracy: 0.677667, val accuracy: 0.653000\n",
      "Loss: 0.994709, Train accuracy: 0.682000, val accuracy: 0.664000\n",
      "Loss: 1.304772, Train accuracy: 0.681889, val accuracy: 0.661000\n",
      "Loss: 0.841146, Train accuracy: 0.683222, val accuracy: 0.664000\n",
      "Loss: 1.052827, Train accuracy: 0.686778, val accuracy: 0.663000\n",
      "Loss: 1.163567, Train accuracy: 0.689222, val accuracy: 0.668000\n",
      "Loss: 0.916163, Train accuracy: 0.691778, val accuracy: 0.672000\n",
      "Loss: 1.337020, Train accuracy: 0.693333, val accuracy: 0.674000\n",
      "Loss: 1.492963, Train accuracy: 0.696111, val accuracy: 0.675000\n",
      "Loss: 1.138975, Train accuracy: 0.697667, val accuracy: 0.673000\n",
      "Loss: 1.293375, Train accuracy: 0.699556, val accuracy: 0.675000\n",
      "Loss: 0.987883, Train accuracy: 0.701778, val accuracy: 0.675000\n",
      "Loss: 1.109757, Train accuracy: 0.704889, val accuracy: 0.678000\n",
      "Loss: 0.972302, Train accuracy: 0.708333, val accuracy: 0.682000\n",
      "Loss: 0.717249, Train accuracy: 0.709889, val accuracy: 0.685000\n",
      "Loss: 0.864279, Train accuracy: 0.707444, val accuracy: 0.687000\n",
      "Loss: 1.053875, Train accuracy: 0.709889, val accuracy: 0.692000\n",
      "Loss: 1.052244, Train accuracy: 0.711778, val accuracy: 0.694000\n",
      "Loss: 1.045995, Train accuracy: 0.713333, val accuracy: 0.691000\n",
      "Loss: 0.643076, Train accuracy: 0.714778, val accuracy: 0.700000\n",
      "Loss: 1.239913, Train accuracy: 0.713667, val accuracy: 0.695000\n",
      "Loss: 1.290313, Train accuracy: 0.713444, val accuracy: 0.695000\n"
     ]
    },
    {
     "name": "stdout",
     "output_type": "stream",
     "text": [
      "Loss: 1.060434, Train accuracy: 0.719222, val accuracy: 0.695000\n",
      "Loss: 1.086367, Train accuracy: 0.718222, val accuracy: 0.696000\n",
      "Loss: 1.183382, Train accuracy: 0.723000, val accuracy: 0.699000\n",
      "Loss: 1.211539, Train accuracy: 0.723556, val accuracy: 0.698000\n",
      "Loss: 1.027992, Train accuracy: 0.722556, val accuracy: 0.697000\n",
      "Loss: 0.973413, Train accuracy: 0.723667, val accuracy: 0.702000\n",
      "Loss: 0.704426, Train accuracy: 0.727333, val accuracy: 0.698000\n",
      "Loss: 0.846684, Train accuracy: 0.725667, val accuracy: 0.700000\n",
      "Loss: 0.666993, Train accuracy: 0.728667, val accuracy: 0.698000\n",
      "Loss: 1.034087, Train accuracy: 0.728889, val accuracy: 0.697000\n",
      "Loss: 1.124146, Train accuracy: 0.730000, val accuracy: 0.699000\n",
      "Loss: 0.811061, Train accuracy: 0.734000, val accuracy: 0.702000\n",
      "Loss: 0.807566, Train accuracy: 0.732111, val accuracy: 0.702000\n",
      "Loss: 1.044415, Train accuracy: 0.733667, val accuracy: 0.704000\n",
      "Loss: 0.839867, Train accuracy: 0.734667, val accuracy: 0.704000\n",
      "Loss: 0.780199, Train accuracy: 0.739333, val accuracy: 0.702000\n",
      "Loss: 0.861923, Train accuracy: 0.737778, val accuracy: 0.712000\n",
      "Loss: 0.851696, Train accuracy: 0.739111, val accuracy: 0.710000\n",
      "Loss: 1.062897, Train accuracy: 0.740444, val accuracy: 0.711000\n",
      "Loss: 0.875684, Train accuracy: 0.740111, val accuracy: 0.703000\n",
      "Loss: 0.776283, Train accuracy: 0.741222, val accuracy: 0.708000\n",
      "Loss: 0.865711, Train accuracy: 0.742444, val accuracy: 0.710000\n",
      "Loss: 0.873411, Train accuracy: 0.744556, val accuracy: 0.707000\n",
      "Loss: 0.864369, Train accuracy: 0.746000, val accuracy: 0.711000\n",
      "Loss: 0.765341, Train accuracy: 0.746667, val accuracy: 0.710000\n",
      "Loss: 0.824261, Train accuracy: 0.748333, val accuracy: 0.712000\n",
      "Loss: 0.954489, Train accuracy: 0.750556, val accuracy: 0.712000\n",
      "Loss: 0.903490, Train accuracy: 0.749333, val accuracy: 0.716000\n",
      "Loss: 0.681472, Train accuracy: 0.751556, val accuracy: 0.709000\n",
      "Loss: 0.856033, Train accuracy: 0.753444, val accuracy: 0.716000\n",
      "Loss: 0.822191, Train accuracy: 0.754778, val accuracy: 0.712000\n",
      "Loss: 0.735895, Train accuracy: 0.756222, val accuracy: 0.714000\n",
      "Loss: 1.167081, Train accuracy: 0.754667, val accuracy: 0.713000\n",
      "Loss: 0.826010, Train accuracy: 0.756111, val accuracy: 0.715000\n",
      "Loss: 0.770436, Train accuracy: 0.757000, val accuracy: 0.715000\n",
      "Loss: 0.788831, Train accuracy: 0.761222, val accuracy: 0.719000\n",
      "Loss: 0.998495, Train accuracy: 0.763111, val accuracy: 0.718000\n",
      "Loss: 0.867971, Train accuracy: 0.762444, val accuracy: 0.718000\n",
      "Loss: 1.041475, Train accuracy: 0.762667, val accuracy: 0.721000\n",
      "Loss: 0.496349, Train accuracy: 0.764333, val accuracy: 0.720000\n",
      "Loss: 0.723107, Train accuracy: 0.766222, val accuracy: 0.716000\n",
      "Loss: 0.613639, Train accuracy: 0.765000, val accuracy: 0.715000\n",
      "Loss: 0.833468, Train accuracy: 0.767667, val accuracy: 0.717000\n",
      "Loss: 0.883014, Train accuracy: 0.769333, val accuracy: 0.720000\n",
      "Loss: 1.267066, Train accuracy: 0.769889, val accuracy: 0.719000\n",
      "Loss: 0.586185, Train accuracy: 0.770556, val accuracy: 0.722000\n",
      "Loss: 1.005978, Train accuracy: 0.772889, val accuracy: 0.723000\n",
      "Loss: 0.923847, Train accuracy: 0.771889, val accuracy: 0.720000\n",
      "Loss: 0.834621, Train accuracy: 0.773111, val accuracy: 0.721000\n",
      "Loss: 0.719367, Train accuracy: 0.774667, val accuracy: 0.724000\n",
      "Loss: 0.715759, Train accuracy: 0.775000, val accuracy: 0.722000\n",
      "Loss: 0.889125, Train accuracy: 0.776889, val accuracy: 0.723000\n",
      "Loss: 0.885190, Train accuracy: 0.775111, val accuracy: 0.725000\n",
      "Loss: 0.575334, Train accuracy: 0.778000, val accuracy: 0.719000\n",
      "Loss: 0.982479, Train accuracy: 0.778111, val accuracy: 0.722000\n",
      "Loss: 0.734621, Train accuracy: 0.779222, val accuracy: 0.723000\n",
      "Loss: 0.621587, Train accuracy: 0.782222, val accuracy: 0.722000\n",
      "Loss: 0.621874, Train accuracy: 0.781889, val accuracy: 0.721000\n",
      "Loss: 0.845372, Train accuracy: 0.780778, val accuracy: 0.720000\n",
      "Loss: 0.854306, Train accuracy: 0.785667, val accuracy: 0.723000\n",
      "Loss: 0.987130, Train accuracy: 0.785000, val accuracy: 0.726000\n",
      "Loss: 0.944798, Train accuracy: 0.785444, val accuracy: 0.733000\n",
      "Loss: 0.766350, Train accuracy: 0.785333, val accuracy: 0.728000\n",
      "Loss: 0.776290, Train accuracy: 0.787667, val accuracy: 0.731000\n",
      "Loss: 0.844905, Train accuracy: 0.786333, val accuracy: 0.728000\n",
      "Loss: 0.678757, Train accuracy: 0.788333, val accuracy: 0.728000\n",
      "Loss: 0.519710, Train accuracy: 0.790556, val accuracy: 0.732000\n",
      "Loss: 0.558873, Train accuracy: 0.791444, val accuracy: 0.728000\n",
      "Loss: 0.900704, Train accuracy: 0.790000, val accuracy: 0.732000\n",
      "Loss: 0.714819, Train accuracy: 0.792556, val accuracy: 0.731000\n",
      "Loss: 0.458085, Train accuracy: 0.793222, val accuracy: 0.732000\n",
      "Loss: 0.904305, Train accuracy: 0.793667, val accuracy: 0.737000\n",
      "Loss: 0.692129, Train accuracy: 0.792778, val accuracy: 0.733000\n"
     ]
    }
   ],
   "source": [
    "# Let's train the best one-hidden-layer network we can\n",
    "\n",
    "learning_rates = 1e-2\n",
    "reg_strength = 1e-3\n",
    "learning_rate_decay = 0.999\n",
    "hidden_layer_size = 128\n",
    "num_epochs = 200\n",
    "batch_size = 64\n",
    "\n",
    "best_classifier = None\n",
    "best_val_accuracy = None\n",
    "\n",
    "loss_history = []\n",
    "train_history = []\n",
    "val_history = []\n",
    "\n",
    "# TODO find the best hyperparameters to train the network\n",
    "# Don't hesitate to add new values to the arrays above, perform experiments, use any tricks you want\n",
    "# You should expect to get to at least 40% of valudation accuracy\n",
    "# Save loss/train/history of the best classifier to the variables above\n",
    "model = TwoLayerNet(n_input = train_X.shape[1], n_output=10, hidden_layer_size=hidden_layer_size, \n",
    "                    reg=reg_strength)\n",
    "dataset = Dataset(train_X, train_y, val_X, val_y)\n",
    "trainer = Trainer(model, dataset, SGD(), learning_rate=learning_rates, num_epochs=num_epochs, \n",
    "                  batch_size=batch_size, learning_rate_decay=learning_rate_decay)\n",
    "loss_history, train_history, val_history = trainer.fit()"
   ]
  },
  {
   "cell_type": "code",
   "execution_count": 139,
   "metadata": {},
   "outputs": [
    {
     "data": {
      "text/plain": [
       "[<matplotlib.lines.Line2D at 0x7ff7fa409e80>]"
      ]
     },
     "execution_count": 139,
     "metadata": {},
     "output_type": "execute_result"
    },
    {
     "data": {
      "image/png": "[encoded data removed]",
      "text/plain": [
       "<Figure size 1080x504 with 2 Axes>"
      ]
     },
     "metadata": {
      "needs_background": "light"
     },
     "output_type": "display_data"
    }
   ],
   "source": [
    "plt.figure(figsize=(15, 7))\n",
    "plt.subplot(211)\n",
    "plt.title(\"Loss\")\n",
    "plt.plot(loss_history)\n",
    "plt.subplot(212)\n",
    "plt.title(\"Train/validation accuracy\")\n",
    "plt.plot(train_history)\n",
    "plt.plot(val_history)"
   ]
  },
  {
   "cell_type": "markdown",
   "metadata": {},
   "source": [
    "# Как обычно, посмотрим, как наша лучшая модель работает на тестовых данных"
   ]
  },
  {
   "cell_type": "code",
   "execution_count": 141,
   "metadata": {},
   "outputs": [
    {
     "name": "stdout",
     "output_type": "stream",
     "text": [
      "Neural net test set accuracy: 0.694000\n"
     ]
    }
   ],
   "source": [
    "test_pred = model.predict(test_X)\n",
    "test_accuracy = multiclass_accuracy(test_pred, test_y)\n",
    "print('Neural net test set accuracy: %f' % (test_accuracy, ))"
   ]
  }
 ],
 "metadata": {
  "kernelspec": {
   "display_name": "Python 3",
   "language": "python",
   "name": "python3"
  },
  "language_info": {
   "codemirror_mode": {
    "name": "ipython",
    "version": 3
   },
   "file_extension": ".py",
   "mimetype": "text/x-python",
   "name": "python",
   "nbconvert_exporter": "python",
   "pygments_lexer": "ipython3",
   "version": "3.7.3"
  }
 },
 "nbformat": 4,
 "nbformat_minor": 2
}
